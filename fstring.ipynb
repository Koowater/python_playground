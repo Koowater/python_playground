{
 "cells": [
  {
   "cell_type": "markdown",
   "metadata": {},
   "source": [
    "## 파이 출력"
   ]
  },
  {
   "cell_type": "code",
   "execution_count": 17,
   "metadata": {},
   "outputs": [
    {
     "name": "stdout",
     "output_type": "stream",
     "text": [
      "|3.141592653589793|\n",
      "|3.1415926536|\n",
      "|3.1416|\n",
      "|              3.1416|\n",
      "|       3.1416       |\n",
      "|3.1416              |\n",
      "|00000003.14160000000|\n"
     ]
    }
   ],
   "source": [
    "from math import pi\n",
    "print(f'|{pi}|')\n",
    "# 소수점 10번째 자리수까지만 출력\n",
    "print(f'|{pi:.10f}|')\n",
    "# 소수점 자리수를 변수로 받아 출력\n",
    "num = 4\n",
    "print(f'|{pi:.{num}f}|')\n",
    "# 오른쪽 정렬과 자리수 지정\n",
    "print(f'|{pi:>20.4f}|')\n",
    "# 가운데 정렬과 자리수 지정\n",
    "print(f'|{pi:^20.4f}|')\n",
    "# 왼쪽 정렬과 자리수 지정\n",
    "print(f'|{pi:<20.4f}|')\n",
    "# 가운데 정렬 후 빈 자리를 0으로 채움\n",
    "print(f'|{pi:0^20.4f}|')"
   ]
  },
  {
   "cell_type": "code",
   "execution_count": null,
   "metadata": {},
   "outputs": [],
   "source": []
  }
 ],
 "metadata": {
  "interpreter": {
   "hash": "916dbcbb3f70747c44a77c7bcd40155683ae19c65e1c03b4aa3499c5328201f1"
  },
  "kernelspec": {
   "display_name": "Python 3.8.10 64-bit",
   "language": "python",
   "name": "python3"
  },
  "language_info": {
   "codemirror_mode": {
    "name": "ipython",
    "version": 3
   },
   "file_extension": ".py",
   "mimetype": "text/x-python",
   "name": "python",
   "nbconvert_exporter": "python",
   "pygments_lexer": "ipython3",
   "version": "3.8.10"
  },
  "orig_nbformat": 4
 },
 "nbformat": 4,
 "nbformat_minor": 2
}
